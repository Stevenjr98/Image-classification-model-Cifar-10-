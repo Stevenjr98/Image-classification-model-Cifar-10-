{
  "nbformat": 4,
  "nbformat_minor": 0,
  "metadata": {
    "colab": {
      "name": "Video2Pic.ipynb",
      "provenance": [],
      "mount_file_id": "11aPshGXzLdmKSfNqVEFyJZKBfloTY9Zv",
      "authorship_tag": "ABX9TyOZe0YN6hg76U/PsKuCtHQM",
      "include_colab_link": true
    },
    "kernelspec": {
      "name": "python3",
      "display_name": "Python 3"
    },
    "language_info": {
      "name": "python"
    }
  },
  "cells": [
    {
      "cell_type": "markdown",
      "metadata": {
        "id": "view-in-github",
        "colab_type": "text"
      },
      "source": [
        "<a href=\"https://colab.research.google.com/github/Stevenjr98/Image-classification-model-Cifar-10-/blob/main/Video2Pic.ipynb\" target=\"_parent\"><img src=\"https://colab.research.google.com/assets/colab-badge.svg\" alt=\"Open In Colab\"/></a>"
      ]
    },
    {
      "cell_type": "code",
      "metadata": {
        "id": "SI_-YeX6kHqX",
        "colab": {
          "base_uri": "https://localhost:8080/"
        },
        "outputId": "dcc1bbf8-840c-4f67-adef-a7d47341587a"
      },
      "source": [
        " #下载pillow\n",
        "!pip install Pillow"
      ],
      "execution_count": null,
      "outputs": [
        {
          "output_type": "stream",
          "text": [
            "Requirement already satisfied: Pillow in /usr/local/lib/python3.7/dist-packages (7.1.2)\n"
          ],
          "name": "stdout"
        }
      ]
    },
    {
      "cell_type": "code",
      "metadata": {
        "id": "ARvB1sZOlCqC",
        "colab": {
          "base_uri": "https://localhost:8080/"
        },
        "outputId": "a5763d1a-3e68-4d51-d21f-9d135a3fc029"
      },
      "source": [
        "import cv2\n",
        "from cv2 import VideoWriter, VideoWriter_fourcc, imread, resize\n",
        "import os\n",
        "from PIL import Image\n",
        "\n",
        "def Video2Pic(video_path,intervals):\n",
        "    imgPath = \"/content/Data/Views\"\n",
        " \n",
        "    cap = cv2.VideoCapture(video_path)\n",
        "    fps = cap.get(cv2.CAP_PROP_FPS)  # 获取帧率\n",
        "    print(\"fps:\",fps)\n",
        "    # width = int(cap.get(cv2.CAP_PROP_FRAME_WIDTH))  # 获取宽度\n",
        "    # height = int(cap.get(cv2.CAP_PROP_FRAME_HEIGHT))  # 获取高度\n",
        "    suc = cap.isOpened()  # 是否成功打开\n",
        "    print(\"Video reading is successful:\",suc,\" ！！\")\n",
        "    frame_count = 0\n",
        "    img_count = 0\n",
        "    while suc:\n",
        "        suc, frame = cap.read()\n",
        "        frame_count += 1\n",
        "        #cv2.waitKey(1)\n",
        "        #前frame_count张图片\n",
        "        if frame_count % intervals == 0:\n",
        "          img_count += 1\n",
        "          save_name = video_path + str(img_count) + '_' + str(frame_count) + '.jpg'\n",
        "          #cv2.imwrite(imgPath + str(frame_count).zfill(4)+'.jpg', frame)\n",
        "          cv2.imwrite(save_name,frame)\n",
        "          print(\"第 \"+str(img_count)+\" 张\"+\" 图片成功保存！\")  \n",
        "        if not suc:\n",
        "          print(\"it is over~\")\n",
        "          break\n",
        "    cap.release()\n",
        "    print(\"视频转图片结束！\")\n",
        "\n",
        "if __name__ == '__main__':\n",
        "  video_path = \"/content/Animal/Animal03.mp4\"\n",
        "  intervals = 60\n",
        "  Video2Pic(video_path,intervals)"
      ],
      "execution_count": null,
      "outputs": [
        {
          "output_type": "stream",
          "text": [
            "fps: 30.0\n",
            "Video reading is successful: True  ！！\n",
            "第 1 张 图片成功保存！\n",
            "第 2 张 图片成功保存！\n",
            "第 3 张 图片成功保存！\n",
            "第 4 张 图片成功保存！\n",
            "第 5 张 图片成功保存！\n",
            "第 6 张 图片成功保存！\n",
            "第 7 张 图片成功保存！\n",
            "第 8 张 图片成功保存！\n",
            "第 9 张 图片成功保存！\n",
            "第 10 张 图片成功保存！\n",
            "第 11 张 图片成功保存！\n",
            "第 12 张 图片成功保存！\n",
            "第 13 张 图片成功保存！\n",
            "第 14 张 图片成功保存！\n",
            "it is over~\n",
            "视频转图片结束！\n"
          ],
          "name": "stdout"
        }
      ]
    },
    {
      "cell_type": "code",
      "metadata": {
        "id": "df4okj2KiYSG"
      },
      "source": [
        "#构建数据集\n",
        "import tensorflow as tf\n",
        "import matplotlib\n",
        "from PIL import Image\n",
        "import matplotlib.pyplot as plt\n",
        "import numpy as np\n",
        "import os\n",
        "\n",
        "#路径\n",
        "cwd = \"/content/Data_set\"\n",
        "\n",
        "#定义的分类\n",
        "classes = {'Horse','Human'}\n",
        "\n",
        "#输出为tfrecord文件\n",
        "writer = tf.compat.v1.python_io.TFRecordWriter('train.tfrecords')\n",
        "\n",
        "def _int64_feature(value):\n",
        "  return tf.train.Feature(int64_list = tf.train.Int64List(value = [value]))\n",
        "\n",
        "def _bytes_feature(value):\n",
        "    return tf.train.Feature(bytes_list = tf.train.BytesList(value = [value]))\n",
        "\n",
        "for index,name in enumerate(classes):\n",
        "  class_path = cwd +'/'+ name\n",
        "  for img_name in os.listdir(class_path):\n",
        "    img_path = class_path + '/'+ img_name\n",
        "\n",
        "    img = Image.open(img_path)\n",
        "    img = img.resize((208,208))\n",
        "    img_row = img.tobytes()\n",
        "    #example = tf.train.Example(features = tf.train.Features(feature = feature_dict)) \n",
        "    example = tf.train.Example(features = tf.train.Features(feature = {\n",
        "                                                                           'label': _int64_feature(index),                                                                         \n",
        "                                                                           'img_raw': _bytes_feature(img_row),                                                                          \n",
        "                                                                           }))\n",
        "\n",
        "\n",
        "    writer.write(example.SerializeToString())\n",
        "\n",
        "writer.close()\n",
        "\n",
        "\n"
      ],
      "execution_count": null,
      "outputs": []
    },
    {
      "cell_type": "code",
      "metadata": {
        "colab": {
          "base_uri": "https://localhost:8080/"
        },
        "id": "7TyW5TRPn67y",
        "outputId": "97b73dfe-0e29-4bfd-e70c-60d6f99e31a8"
      },
      "source": [
        "! pwd\n",
        "! ls -a\n",
        "! rm -rf .ipynb_checkpoints/\n",
        "! ls -a\n",
        "! ls -a /content/Data_set/Horse\n",
        "! rm -rf /content/Data_set/Horse/.ipynb_checkpoints\n",
        "! ls -a /content/Data_set/Horse\n",
        "! ls -a /content/Data_set/Human\n",
        "! rm -rf /content/Data_set/Human/.ipynb_checkpoints\n",
        "! ls -a /content/Data_set/Human"
      ],
      "execution_count": null,
      "outputs": [
        {
          "output_type": "stream",
          "text": [
            "/content\n",
            ".  ..  .config\tData_set  drive  .ipynb_checkpoints  sample_data\n",
            ".  ..  .config\tData_set  drive  sample_data\n",
            ".\t\thorse2-112.png\thorse3-255.png\thorse4-495.png\thorse5-303.png\n",
            "..\t\thorse2-136.png\thorse3-326.png\thorse4-501.png\thorse5-342.png\n",
            "horse1-000.png\thorse2-183.png\thorse3-397.png\thorse4-503.png\thorse5-360.png\n",
            "horse1-105.png\thorse2-201.png\thorse3-416.png\thorse4-530.png\thorse5-400.png\n",
            "horse1-122.png\thorse2-218.png\thorse3-440.png\thorse4-541.png\thorse5-402.png\n",
            "horse1-127.png\thorse2-224.png\thorse3-469.png\thorse4-548.png\thorse5-405.png\n",
            "horse1-170.png\thorse2-254.png\thorse3-484.png\thorse4-556.png\thorse5-458.png\n",
            "horse1-204.png\thorse2-269.png\thorse3-498.png\thorse4-588.png\thorse5-478.png\n",
            "horse1-224.png\thorse2-294.png\thorse3-521.png\thorse4-599.png\thorse5-488.png\n",
            "horse1-241.png\thorse2-314.png\thorse3-541.png\thorse5-002.png\thorse5-504.png\n",
            "horse1-264.png\thorse2-368.png\thorse3-584.png\thorse5-018.png\thorse5-514.png\n",
            "horse1-276.png\thorse2-383.png\thorse4-000.png\thorse5-032.png\thorse5-519.png\n",
            "horse1-298.png\thorse2-412.png\thorse4-014.png\thorse5-060.png\thorse5-550.png\n",
            "horse1-335.png\thorse2-441.png\thorse4-043.png\thorse5-065.png\thorse5-565.png\n",
            "horse1-384.png\thorse2-544.png\thorse4-072.png\thorse5-076.png\thorse5-589.png\n",
            "horse1-411.png\thorse2-582.png\thorse4-102.png\thorse5-083.png\thorse6-004.png\n",
            "horse1-436.png\thorse2-596.png\thorse4-159.png\thorse5-100.png\thorse6-064.png\n",
            "horse1-455.png\thorse3-011.png\thorse4-188.png\thorse5-103.png\thorse6-089.png\n",
            "horse1-484.png\thorse3-026.png\thorse4-202.png\thorse5-123.png\thorse6-153.png\n",
            "horse1-510.png\thorse3-055.png\thorse4-232.png\thorse5-164.png\thorse6-161.png\n",
            "horse1-539.png\thorse3-070.png\thorse4-302.png\thorse5-181.png\thorse6-198.png\n",
            "horse1-554.png\thorse3-099.png\thorse4-345.png\thorse5-192.png\thorse6-218.png\n",
            "horse1-568.png\thorse3-141.png\thorse4-389.png\thorse5-203.png\thorse6-275.png\n",
            "horse2-011.png\thorse3-171.png\thorse4-403.png\thorse5-235.png\thorse6-345.png\n",
            "horse2-040.png\thorse3-198.png\thorse4-439.png\thorse5-259.png\thorse6-403.png\n",
            "horse2-069.png\thorse3-217.png\thorse4-468.png\thorse5-275.png\thorse6-544.png\n",
            ".\t\thorse2-112.png\thorse3-255.png\thorse4-495.png\thorse5-303.png\n",
            "..\t\thorse2-136.png\thorse3-326.png\thorse4-501.png\thorse5-342.png\n",
            "horse1-000.png\thorse2-183.png\thorse3-397.png\thorse4-503.png\thorse5-360.png\n",
            "horse1-105.png\thorse2-201.png\thorse3-416.png\thorse4-530.png\thorse5-400.png\n",
            "horse1-122.png\thorse2-218.png\thorse3-440.png\thorse4-541.png\thorse5-402.png\n",
            "horse1-127.png\thorse2-224.png\thorse3-469.png\thorse4-548.png\thorse5-405.png\n",
            "horse1-170.png\thorse2-254.png\thorse3-484.png\thorse4-556.png\thorse5-458.png\n",
            "horse1-204.png\thorse2-269.png\thorse3-498.png\thorse4-588.png\thorse5-478.png\n",
            "horse1-224.png\thorse2-294.png\thorse3-521.png\thorse4-599.png\thorse5-488.png\n",
            "horse1-241.png\thorse2-314.png\thorse3-541.png\thorse5-002.png\thorse5-504.png\n",
            "horse1-264.png\thorse2-368.png\thorse3-584.png\thorse5-018.png\thorse5-514.png\n",
            "horse1-276.png\thorse2-383.png\thorse4-000.png\thorse5-032.png\thorse5-519.png\n",
            "horse1-298.png\thorse2-412.png\thorse4-014.png\thorse5-060.png\thorse5-550.png\n",
            "horse1-335.png\thorse2-441.png\thorse4-043.png\thorse5-065.png\thorse5-565.png\n",
            "horse1-384.png\thorse2-544.png\thorse4-072.png\thorse5-076.png\thorse5-589.png\n",
            "horse1-411.png\thorse2-582.png\thorse4-102.png\thorse5-083.png\thorse6-004.png\n",
            "horse1-436.png\thorse2-596.png\thorse4-159.png\thorse5-100.png\thorse6-064.png\n",
            "horse1-455.png\thorse3-011.png\thorse4-188.png\thorse5-103.png\thorse6-089.png\n",
            "horse1-484.png\thorse3-026.png\thorse4-202.png\thorse5-123.png\thorse6-153.png\n",
            "horse1-510.png\thorse3-055.png\thorse4-232.png\thorse5-164.png\thorse6-161.png\n",
            "horse1-539.png\thorse3-070.png\thorse4-302.png\thorse5-181.png\thorse6-198.png\n",
            "horse1-554.png\thorse3-099.png\thorse4-345.png\thorse5-192.png\thorse6-218.png\n",
            "horse1-568.png\thorse3-141.png\thorse4-389.png\thorse5-203.png\thorse6-275.png\n",
            "horse2-011.png\thorse3-171.png\thorse4-403.png\thorse5-235.png\thorse6-345.png\n",
            "horse2-040.png\thorse3-198.png\thorse4-439.png\thorse5-259.png\thorse6-403.png\n",
            "horse2-069.png\thorse3-217.png\thorse4-468.png\thorse5-275.png\thorse6-544.png\n",
            ".\t\t   valhuman02-06.png  valhuman03-14.png  valhuman04-22.png\n",
            "..\t\t   valhuman02-07.png  valhuman03-15.png  valhuman04-23.png\n",
            "valhuman01-00.png  valhuman02-08.png  valhuman03-16.png  valhuman04-24.png\n",
            "valhuman01-01.png  valhuman02-09.png  valhuman03-17.png  valhuman05-00.png\n",
            "valhuman01-02.png  valhuman02-10.png  valhuman03-18.png  valhuman05-01.png\n",
            "valhuman01-03.png  valhuman02-11.png  valhuman03-19.png  valhuman05-02.png\n",
            "valhuman01-04.png  valhuman02-12.png  valhuman03-20.png  valhuman05-03.png\n",
            "valhuman01-05.png  valhuman02-13.png  valhuman03-21.png  valhuman05-04.png\n",
            "valhuman01-06.png  valhuman02-14.png  valhuman03-22.png  valhuman05-05.png\n",
            "valhuman01-07.png  valhuman02-15.png  valhuman03-23.png  valhuman05-06.png\n",
            "valhuman01-08.png  valhuman02-16.png  valhuman03-24.png  valhuman05-07.png\n",
            "valhuman01-09.png  valhuman02-17.png  valhuman04-00.png  valhuman05-08.png\n",
            "valhuman01-10.png  valhuman02-18.png  valhuman04-01.png  valhuman05-09.png\n",
            "valhuman01-11.png  valhuman02-19.png  valhuman04-02.png  valhuman05-10.png\n",
            "valhuman01-12.png  valhuman02-20.png  valhuman04-03.png  valhuman05-11.png\n",
            "valhuman01-13.png  valhuman02-21.png  valhuman04-04.png  valhuman05-12.png\n",
            "valhuman01-14.png  valhuman02-22.png  valhuman04-05.png  valhuman05-13.png\n",
            "valhuman01-15.png  valhuman02-23.png  valhuman04-06.png  valhuman05-14.png\n",
            "valhuman01-16.png  valhuman02-24.png  valhuman04-07.png  valhuman05-15.png\n",
            "valhuman01-17.png  valhuman03-00.png  valhuman04-08.png  valhuman05-16.png\n",
            "valhuman01-18.png  valhuman03-01.png  valhuman04-09.png  valhuman05-17.png\n",
            "valhuman01-19.png  valhuman03-02.png  valhuman04-10.png  valhuman05-18.png\n",
            "valhuman01-20.png  valhuman03-03.png  valhuman04-11.png  valhuman05-19.png\n",
            "valhuman01-21.png  valhuman03-04.png  valhuman04-12.png  valhuman05-20.png\n",
            "valhuman01-22.png  valhuman03-05.png  valhuman04-13.png  valhuman05-21.png\n",
            "valhuman01-23.png  valhuman03-06.png  valhuman04-14.png  valhuman05-22.png\n",
            "valhuman01-24.png  valhuman03-07.png  valhuman04-15.png  valhuman05-23.png\n",
            "valhuman02-00.png  valhuman03-08.png  valhuman04-16.png  valhuman05-24.png\n",
            "valhuman02-01.png  valhuman03-09.png  valhuman04-17.png  valhuman05-25.png\n",
            "valhuman02-02.png  valhuman03-10.png  valhuman04-18.png  valhuman05-26.png\n",
            "valhuman02-03.png  valhuman03-11.png  valhuman04-19.png  valhuman05-27.png\n",
            "valhuman02-04.png  valhuman03-12.png  valhuman04-20.png\n",
            "valhuman02-05.png  valhuman03-13.png  valhuman04-21.png\n",
            ".\t\t   valhuman02-06.png  valhuman03-14.png  valhuman04-22.png\n",
            "..\t\t   valhuman02-07.png  valhuman03-15.png  valhuman04-23.png\n",
            "valhuman01-00.png  valhuman02-08.png  valhuman03-16.png  valhuman04-24.png\n",
            "valhuman01-01.png  valhuman02-09.png  valhuman03-17.png  valhuman05-00.png\n",
            "valhuman01-02.png  valhuman02-10.png  valhuman03-18.png  valhuman05-01.png\n",
            "valhuman01-03.png  valhuman02-11.png  valhuman03-19.png  valhuman05-02.png\n",
            "valhuman01-04.png  valhuman02-12.png  valhuman03-20.png  valhuman05-03.png\n",
            "valhuman01-05.png  valhuman02-13.png  valhuman03-21.png  valhuman05-04.png\n",
            "valhuman01-06.png  valhuman02-14.png  valhuman03-22.png  valhuman05-05.png\n",
            "valhuman01-07.png  valhuman02-15.png  valhuman03-23.png  valhuman05-06.png\n",
            "valhuman01-08.png  valhuman02-16.png  valhuman03-24.png  valhuman05-07.png\n",
            "valhuman01-09.png  valhuman02-17.png  valhuman04-00.png  valhuman05-08.png\n",
            "valhuman01-10.png  valhuman02-18.png  valhuman04-01.png  valhuman05-09.png\n",
            "valhuman01-11.png  valhuman02-19.png  valhuman04-02.png  valhuman05-10.png\n",
            "valhuman01-12.png  valhuman02-20.png  valhuman04-03.png  valhuman05-11.png\n",
            "valhuman01-13.png  valhuman02-21.png  valhuman04-04.png  valhuman05-12.png\n",
            "valhuman01-14.png  valhuman02-22.png  valhuman04-05.png  valhuman05-13.png\n",
            "valhuman01-15.png  valhuman02-23.png  valhuman04-06.png  valhuman05-14.png\n",
            "valhuman01-16.png  valhuman02-24.png  valhuman04-07.png  valhuman05-15.png\n",
            "valhuman01-17.png  valhuman03-00.png  valhuman04-08.png  valhuman05-16.png\n",
            "valhuman01-18.png  valhuman03-01.png  valhuman04-09.png  valhuman05-17.png\n",
            "valhuman01-19.png  valhuman03-02.png  valhuman04-10.png  valhuman05-18.png\n",
            "valhuman01-20.png  valhuman03-03.png  valhuman04-11.png  valhuman05-19.png\n",
            "valhuman01-21.png  valhuman03-04.png  valhuman04-12.png  valhuman05-20.png\n",
            "valhuman01-22.png  valhuman03-05.png  valhuman04-13.png  valhuman05-21.png\n",
            "valhuman01-23.png  valhuman03-06.png  valhuman04-14.png  valhuman05-22.png\n",
            "valhuman01-24.png  valhuman03-07.png  valhuman04-15.png  valhuman05-23.png\n",
            "valhuman02-00.png  valhuman03-08.png  valhuman04-16.png  valhuman05-24.png\n",
            "valhuman02-01.png  valhuman03-09.png  valhuman04-17.png  valhuman05-25.png\n",
            "valhuman02-02.png  valhuman03-10.png  valhuman04-18.png  valhuman05-26.png\n",
            "valhuman02-03.png  valhuman03-11.png  valhuman04-19.png  valhuman05-27.png\n",
            "valhuman02-04.png  valhuman03-12.png  valhuman04-20.png\n",
            "valhuman02-05.png  valhuman03-13.png  valhuman04-21.png\n"
          ],
          "name": "stdout"
        }
      ]
    },
    {
      "cell_type": "code",
      "metadata": {
        "id": "VlcwZCCbNGBS"
      },
      "source": [
        "import tempfile\n",
        "import numpy as np\n",
        "\n",
        "example_path = os.path.join(tempfile.gettempdir(), \"train.tfrecords\")\n",
        "\n",
        "np.random.seed(0)\n",
        "\n",
        "#write the records to the file\n",
        "with tf.io.TFRecordWriter(example_path) as file_writer:\n",
        "  for _ in range(4):\n",
        "    x, y = np.random.random(), np.random.random()\n",
        "\n",
        "    record_bytes = tf.train.Example(features=tf.train.Features(feature={\n",
        "        \"x\": tf.train.Feature(float_list=tf.train.FloatList(value=[x])),\n",
        "        \"y\": tf.train.Feature(float_list=tf.train.FloatList(value=[y])),\n",
        "    })).SerializeToString()\n",
        "    file_writer.write(record_bytes)"
      ],
      "execution_count": null,
      "outputs": []
    }
  ]
}