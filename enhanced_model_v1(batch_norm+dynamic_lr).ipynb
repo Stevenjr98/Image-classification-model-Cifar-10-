{
  "nbformat": 4,
  "nbformat_minor": 0,
  "metadata": {
    "colab": {
      "name": "enhanced_model_v1(batch_norm+dynamic_lr).ipynb",
      "provenance": [],
      "authorship_tag": "ABX9TyOSChOQt3gIdrHdd8ct9+SB",
      "include_colab_link": true
    },
    "kernelspec": {
      "name": "python3",
      "display_name": "Python 3"
    },
    "language_info": {
      "name": "python"
    },
    "accelerator": "GPU"
  },
  "cells": [
    {
      "cell_type": "markdown",
      "metadata": {
        "id": "view-in-github",
        "colab_type": "text"
      },
      "source": [
        "<a href=\"https://colab.research.google.com/github/Stevenjr98/Image-classification-model-Cifar-10-/blob/main/enhanced_model_v1(batch_norm%2Bdynamic_lr).ipynb\" target=\"_parent\"><img src=\"https://colab.research.google.com/assets/colab-badge.svg\" alt=\"Open In Colab\"/></a>"
      ]
    },
    {
      "cell_type": "code",
      "metadata": {
        "id": "c9RsCIjRdqy6"
      },
      "source": [
        "# author: Stevenn\n",
        "# date  : 2021-8-16\n",
        "# model_v1\n",
        "import tensorflow as tf\n",
        "from tensorflow import keras\n",
        "import matplotlib.pyplot as plt\n",
        "import PIL\n",
        "import numpy as np\n",
        "import os\n",
        "from tensorflow.keras import datasets, layers, models\n",
        "import cv2 as cv\n",
        "from keras.preprocessing.image import ImageDataGenerator\n",
        "from keras import regularizers"
      ],
      "execution_count": null,
      "outputs": []
    },
    {
      "cell_type": "code",
      "metadata": {
        "colab": {
          "base_uri": "https://localhost:8080/"
        },
        "id": "bkmJCE6Rd0DI",
        "outputId": "7431afe1-2c1c-4b5d-c14f-275f89d6f945"
      },
      "source": [
        "DataSet = tf.keras.datasets.cifar10\n",
        "\n",
        "(train_image,train_label),(test_image,test_label) = DataSet.load_data()\n",
        "\n",
        "class_names = [\"airplane\",\"automobile\",\"bird\",\"cat\",\"deer\",\"dog\",\"frog\",\"horse\",\"ship\",\"truck\"]"
      ],
      "execution_count": null,
      "outputs": [
        {
          "output_type": "stream",
          "name": "stdout",
          "text": [
            "Downloading data from https://www.cs.toronto.edu/~kriz/cifar-10-python.tar.gz\n",
            "170500096/170498071 [==============================] - 6s 0us/step\n",
            "170508288/170498071 [==============================] - 6s 0us/step\n"
          ]
        }
      ]
    },
    {
      "cell_type": "code",
      "metadata": {
        "id": "CCiZcfmyd2Xp"
      },
      "source": [
        "#train_image = train_image/255.0\n",
        "#test_image = test_image/255.0\n",
        "\n",
        "mean = np.mean(train_image,axis=(0,1,2,3))\n",
        "std = np.std(train_image,axis=(0,1,2,3))\n",
        "train_image = (train_image-mean)/(std+1e-7)\n",
        "test_image = (test_image-mean)/(std+1e-7)"
      ],
      "execution_count": null,
      "outputs": []
    },
    {
      "cell_type": "code",
      "metadata": {
        "id": "4z1uXgD_hwuS"
      },
      "source": [
        "#rotation\n",
        "data_augmentation = tf.keras.Sequential([\n",
        "     layers.experimental.preprocessing.RandomFlip(\"horizontal_and_vertical\"),\n",
        "     layers.experimental.preprocessing.RandomRotation(0.2)\n",
        "])"
      ],
      "execution_count": null,
      "outputs": []
    },
    {
      "cell_type": "code",
      "metadata": {
        "id": "2NQ10AIIh1G0"
      },
      "source": [
        "#resize\n",
        "IMG_SIZE = 180\n",
        "\n",
        "resize_and_scale = tf.keras.Sequential([\n",
        "     layers.experimental.preprocessing.Resizing(IMG_SIZE,IMG_SIZE),\n",
        "     layers.experimental.preprocessing.Rescaling(1./255.0)\n",
        "])"
      ],
      "execution_count": null,
      "outputs": []
    },
    {
      "cell_type": "code",
      "metadata": {
        "id": "7rBWpENSh5te"
      },
      "source": [
        "#enhance\n",
        "enhanced_img = tf.keras.Sequential([\n",
        "     layers.experimental.preprocessing.Normalization(axis=-1,mean=None)\n",
        "])"
      ],
      "execution_count": null,
      "outputs": []
    },
    {
      "cell_type": "code",
      "metadata": {
        "id": "K4fbWBgNi8_1"
      },
      "source": [
        "# lr for large epoch\n",
        "epoch = 300\n",
        "learning_rate = 0.001\n",
        "def scheduler(epoch):\n",
        "    if epoch < 100:\n",
        "        return learning_rate * 0.1\n",
        "    if epoch < 200:\n",
        "        return learning_rate * 0.01\n",
        "    return learning_rate * 0.05"
      ],
      "execution_count": null,
      "outputs": []
    },
    {
      "cell_type": "code",
      "metadata": {
        "id": "46uY2hvCJrBe"
      },
      "source": [
        "# lr for small epoch\n",
        "epoch = 300\n",
        "learning_rate = 0.005\n",
        "def scheduler(epoch):\n",
        "    if epoch < 100:\n",
        "        return learning_rate * 0.2\n",
        "    if epoch < 300:\n",
        "        return learning_rate * 0.02\n",
        "    return learning_rate * 0.05"
      ],
      "execution_count": null,
      "outputs": []
    },
    {
      "cell_type": "code",
      "metadata": {
        "id": "Ne6ej02zeN9-"
      },
      "source": [
        "#formal_model_v1\n",
        "model = tf.keras.Sequential([\n",
        "   #resize_and_scale,\n",
        "   data_augmentation,\n",
        "   #enhanced_img,\n",
        "   layers.Conv2D(64,(3,3),activation='ELU',input_shape=(32,32,3)),\n",
        "   #layers.MaxPooling2D((2,2)),\n",
        "   layers.Conv2D(64, (3, 3), activation='ELU'),\n",
        "   layers.BatchNormalization(axis=1),\n",
        "   #池化\n",
        "   layers.MaxPooling2D((2,2)),\n",
        "   #norm = tf.nn.lrn(poola,4,bias=1,alpha=1,beta=0.5,name = 'normal'),\n",
        "   layers.Conv2D(128, (3, 3), activation='PReLU'),\n",
        "   layers.BatchNormalization(axis=1),\n",
        "   layers.MaxPooling2D((2,2)),\n",
        "   layers.Conv2D(256, (3, 3), activation='relu'),\n",
        "   layers.BatchNormalization(axis=1),\n",
        "   layers.MaxPooling2D((2,2)),\n",
        "   #layers.AveragePooling2D(2,2), \n",
        "   layers.Dropout(rate=0.5),\n",
        "   layers.Flatten(),\n",
        "   layers.Dense(1024, activation='relu'),\n",
        "   layers.Dense(10,activation='softmax'),                       \n",
        "])\n",
        "model.compile(\n",
        "    optimizer = tf.keras.optimizers.Adam(learning_rate),\n",
        "    loss = tf.keras.losses.SparseCategoricalCrossentropy(from_logits=True),\n",
        "    metrics = ['accuracy'],\n",
        ")\n",
        "\n",
        "checkpoint_path = \"training_1/cp.ckpt\"\n",
        "checkpoint_dir = os.path.dirname(checkpoint_path)\n",
        "change_Lr = tf.keras.callbacks.LearningRateScheduler(scheduler)\n",
        "\n",
        "cp=tf.keras.callbacks.ModelCheckpoint(filepath=checkpoint_path,save_weights_only=True,verbose=1)"
      ],
      "execution_count": null,
      "outputs": []
    },
    {
      "cell_type": "code",
      "metadata": {
        "id": "V9Nv_b57eWdD"
      },
      "source": [
        "history = model.fit(train_image, train_label, epochs=500, batch_size = 32, \n",
        "                    validation_data=(test_image, test_label),\n",
        "                    callbacks=[cp,change_Lr]\n",
        "                    )"
      ],
      "execution_count": null,
      "outputs": []
    },
    {
      "cell_type": "code",
      "metadata": {
        "id": "i6fxj56vQeaF",
        "colab": {
          "base_uri": "https://localhost:8080/"
        },
        "outputId": "65180ec3-c432-4017-c4a5-f8ea49833fe2"
      },
      "source": [
        "model.summary()"
      ],
      "execution_count": null,
      "outputs": [
        {
          "output_type": "stream",
          "name": "stdout",
          "text": [
            "Model: \"sequential_3\"\n",
            "_________________________________________________________________\n",
            " Layer (type)                Output Shape              Param #   \n",
            "=================================================================\n",
            " sequential (Sequential)     (None, 32, 32, 3)         0         \n",
            "                                                                 \n",
            " conv2d (Conv2D)             (None, 30, 30, 64)        1792      \n",
            "                                                                 \n",
            " conv2d_1 (Conv2D)           (None, 28, 28, 64)        36928     \n",
            "                                                                 \n",
            " batch_normalization (BatchN  (None, 28, 28, 64)       112       \n",
            " ormalization)                                                   \n",
            "                                                                 \n",
            " max_pooling2d (MaxPooling2D  (None, 14, 14, 64)       0         \n",
            " )                                                               \n",
            "                                                                 \n",
            " conv2d_2 (Conv2D)           (None, 12, 12, 128)       92288     \n",
            "                                                                 \n",
            " batch_normalization_1 (Batc  (None, 12, 12, 128)      48        \n",
            " hNormalization)                                                 \n",
            "                                                                 \n",
            " max_pooling2d_1 (MaxPooling  (None, 6, 6, 128)        0         \n",
            " 2D)                                                             \n",
            "                                                                 \n",
            " conv2d_3 (Conv2D)           (None, 4, 4, 256)         295168    \n",
            "                                                                 \n",
            " batch_normalization_2 (Batc  (None, 4, 4, 256)        16        \n",
            " hNormalization)                                                 \n",
            "                                                                 \n",
            " max_pooling2d_2 (MaxPooling  (None, 2, 2, 256)        0         \n",
            " 2D)                                                             \n",
            "                                                                 \n",
            " dropout (Dropout)           (None, 2, 2, 256)         0         \n",
            "                                                                 \n",
            " flatten (Flatten)           (None, 1024)              0         \n",
            "                                                                 \n",
            " dense (Dense)               (None, 1024)              1049600   \n",
            "                                                                 \n",
            " dense_1 (Dense)             (None, 10)                10250     \n",
            "                                                                 \n",
            "=================================================================\n",
            "Total params: 1,486,202\n",
            "Trainable params: 1,486,114\n",
            "Non-trainable params: 88\n",
            "_________________________________________________________________\n"
          ]
        }
      ]
    },
    {
      "cell_type": "code",
      "metadata": {
        "id": "zTInf9dUV0ky",
        "colab": {
          "base_uri": "https://localhost:8080/",
          "height": 296
        },
        "outputId": "a9dfe0b7-faf6-4675-ce8d-5655dddb4632"
      },
      "source": [
        "#准确率视图\n",
        "plt.plot(history.history['accuracy'], label='accuracy')\n",
        "plt.plot(history.history['val_accuracy'], label = 'val_accuracy')\n",
        "plt.xlabel('Epoch')\n",
        "plt.ylabel('Accuracy')\n",
        "plt.ylim([0.5, 1])\n",
        "y_ticks = np.arange(0.5,1,0.05)\n",
        "plt.yticks(y_ticks)\n",
        "plt.legend(loc='lower right')\n",
        "plt.show()\n",
        "\n",
        "test_loss, test_acc = model.evaluate(test_image,  test_label, verbose=2)"
      ],
      "execution_count": null,
      "outputs": [
        {
          "output_type": "display_data",
          "data": {
            "image/png": "[encoded data removed]",
            "text/plain": [
              "<Figure size 432x288 with 1 Axes>"
            ]
          },
          "metadata": {
            "needs_background": "light"
          }
        },
        {
          "output_type": "stream",
          "name": "stdout",
          "text": [
            "313/313 - 1s - loss: 0.5859 - accuracy: 0.8211 - 910ms/epoch - 3ms/step\n"
          ]
        }
      ]
    },
    {
      "cell_type": "code",
      "metadata": {
        "id": "1I5fbbT_f9dR"
      },
      "source": [
        "#保存模型\n",
        "#model.save('/saved_model/my_model')"
      ],
      "execution_count": null,
      "outputs": []
    },
    {
      "cell_type": "code",
      "metadata": {
        "colab": {
          "base_uri": "https://localhost:8080/"
        },
        "id": "ieSQovmpiU5g",
        "outputId": "71c9bf98-247d-4214-ba4d-50df2b3e6a2a"
      },
      "source": [
        "# #second_model(loaded)\n",
        "# model.load_weights(checkpoint_path)"
      ],
      "execution_count": null,
      "outputs": [
        {
          "output_type": "execute_result",
          "data": {
            "text/plain": [
              "<tensorflow.python.training.tracking.util.CheckpointLoadStatus at 0x7fd7cd2be190>"
            ]
          },
          "metadata": {},
          "execution_count": 14
        }
      ]
    },
    {
      "cell_type": "code",
      "metadata": {
        "id": "uApIJxAn3H_r"
      },
      "source": [
        "# #dynamic lr for model_v2\n",
        "# def lr_shedule(epoch):\n",
        "#   lrate = 0.001\n",
        "#   if epoch > 125:\n",
        "#     lrate = 0.0005\n",
        "#   if epoch > 200:\n",
        "#     lrate = 0.0003\n",
        "#   return lrate"
      ],
      "execution_count": null,
      "outputs": []
    },
    {
      "cell_type": "code",
      "metadata": {
        "id": "RH4A-funQQEo"
      },
      "source": [
        "#model_v2\n",
        "# weight_decay = 1e-4\n",
        "\n",
        "# model = tf.keras.Sequential([\n",
        "#     data_augmentation,\n",
        "#     #enhanced_img,\n",
        "#     layers.Conv2D(32,(3,3),activation='ELU',padding = 'same',kernel_regularizer=keras.regularizers.l2(weight_decay),input_shape=train_image.shape[1:]),\n",
        "#     layers.BatchNormalization(axis=1),\n",
        "#     layers.Conv2D(32,(3,3),activation='ELU',padding='same', kernel_regularizer=keras.regularizers.l2(weight_decay)),\n",
        "#     layers.BatchNormalization(axis=1),\n",
        "#     layers.MaxPooling2D((2,2)),\n",
        "#     layers.Dropout(rate=0.3),\n",
        "#     layers.Conv2D(64,(3,3),activation='ELU'),\n",
        "#     layers.BatchNormalization(axis=1),\n",
        "#     layers.Conv2D(64,(3,3),activation='ELU'),\n",
        "#     layers.BatchNormalization(axis=1),\n",
        "#     layers.MaxPooling2D((2,2)),\n",
        "#     layers.Dropout(rate=0.4),\n",
        "#     layers.Conv2D(128,(3,3),activation='ELU'),\n",
        "#     layers.BatchNormalization(axis=1),\n",
        "#     layers.Conv2D(128,(3,3),activation='ELU'),\n",
        "#     layers.BatchNormalization(axis=1),\n",
        "#     layers.MaxPooling2D((2,2)),\n",
        "#     layers.Dropout(rate=0.5),\n",
        "#     layers.Flatten(),\n",
        "#     #layers.Dense(1024, activation='relu'),\n",
        "#     layers.Dense(10,activation='softmax') \n",
        "# ])\n",
        "# model.compile(\n",
        "#     optimizer = tf.keras.optimizers.Adam(lr=0.001,decay=1e-6),\n",
        "#     loss = tf.keras.losses.SparseCategoricalCrossentropy(from_logits=True),\n",
        "#     metrics = ['accuracy'],\n",
        "# )\n",
        "# checkpoint_path = \"training_2/cp.ckpt\"\n",
        "# checkpoint_dir = os.path.dirname(checkpoint_path)\n",
        "# change_Lr = tf.keras.callbacks.LearningRateScheduler(lr_shedule)\n",
        "\n",
        "# cp=tf.keras.callbacks.ModelCheckpoint(filepath=checkpoint_path,save_weights_only=True,verbose=1)"
      ],
      "execution_count": null,
      "outputs": []
    },
    {
      "cell_type": "code",
      "metadata": {
        "id": "F0DMhQ6xHCEw"
      },
      "source": [
        "# #new data_augmentation\n",
        "# datagen = ImageDataGenerator(\n",
        "#     rotation_range=15,\n",
        "#     width_shift_range=0.1,\n",
        "#     height_shift_range=0.1,\n",
        "#     horizontal_flip=True,\n",
        "#     )\n",
        "# datagen.fit(train_image)"
      ],
      "execution_count": null,
      "outputs": []
    },
    {
      "cell_type": "code",
      "metadata": {
        "id": "a__Wf3MbTHQi"
      },
      "source": [
        "# history = model.fit( #datagen.flow(train_image, train_label, batch_size=64),\n",
        "#                      train_image,train_label,batch_size = 64,\n",
        "#                      epochs=300,                                      \n",
        "#                      validation_data=(test_image, test_label),\n",
        "#                      callbacks=[change_Lr]\n",
        "#                     )"
      ],
      "execution_count": null,
      "outputs": []
    },
    {
      "cell_type": "code",
      "metadata": {
        "id": "_wtGHa29FhMX"
      },
      "source": [
        "# model.summary()"
      ],
      "execution_count": null,
      "outputs": []
    }
  ]
}